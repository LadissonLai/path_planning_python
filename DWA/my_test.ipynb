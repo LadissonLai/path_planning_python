{
 "cells": [
  {
   "cell_type": "code",
   "execution_count": 5,
   "metadata": {},
   "outputs": [
    {
     "name": "stdout",
     "output_type": "stream",
     "text": [
      "[[ 5.         17.69180601]\n",
      " [10.          3.60555128]]\n"
     ]
    }
   ],
   "source": [
    "import numpy as np\n",
    "\n",
    "x1 = np.array([[3, 12],\n",
    "               [6, 3]])\n",
    "x2 = np.array([[4, 13],\n",
    "               [8, 2]])\n",
    "\n",
    "r = np.hypot(x1, x2)\n",
    "print(r)"
   ]
  },
  {
   "cell_type": "code",
   "execution_count": 15,
   "metadata": {},
   "outputs": [
    {
     "name": "stdout",
     "output_type": "stream",
     "text": [
      "trajectory[:, 0].shape: (4,)\n",
      "ox[:, None].shape: (2, 1)\n",
      "dx.shape: (2, 4)\n",
      "[[-2  0  2  4]\n",
      " [ 0  2  4  6]]\n"
     ]
    }
   ],
   "source": [
    "import numpy as np\n",
    "\n",
    "trajectory = np.array([[1, 2],\n",
    "                       [3, 4],\n",
    "                       [5, 6],\n",
    "                       [7, 8]])\n",
    "ob = np.array([[3, 4],\n",
    "               [1, 1]])\n",
    "\n",
    "\n",
    "ox = ob[:, 0]\n",
    "oy = ob[:, 1]\n",
    "dx = trajectory[:, 0] - ox[:, None]\n",
    "print(\"trajectory[:, 0].shape:\", trajectory[:, 0].shape)\n",
    "print(\"ox[:, None].shape:\", ox[:, None].shape)\n",
    "print(\"dx.shape:\", dx.shape)\n",
    "print(dx)\n",
    "# dy = trajectory[:, 1] - oy[:, None]\n",
    "# r = np.hypot(dx, dy)\n",
    "# print(\"r.shape:\", r.shape)"
   ]
  },
  {
   "cell_type": "code",
   "execution_count": 18,
   "metadata": {},
   "outputs": [
    {
     "name": "stdout",
     "output_type": "stream",
     "text": [
      "[[ True  True]\n",
      " [False False]]\n",
      "[[ True  True]\n",
      " [False False]]\n"
     ]
    }
   ],
   "source": [
    "import numpy as np\n",
    "\n",
    "x = np.array([[1, 2],\n",
    "              [3, 4]])\n",
    "\n",
    "b = np.array(x < 3)\n",
    "print(b)"
   ]
  }
 ],
 "metadata": {
  "kernelspec": {
   "display_name": "py_robot",
   "language": "python",
   "name": "python3"
  },
  "language_info": {
   "codemirror_mode": {
    "name": "ipython",
    "version": 3
   },
   "file_extension": ".py",
   "mimetype": "text/x-python",
   "name": "python",
   "nbconvert_exporter": "python",
   "pygments_lexer": "ipython3",
   "version": "3.11.7"
  }
 },
 "nbformat": 4,
 "nbformat_minor": 2
}
